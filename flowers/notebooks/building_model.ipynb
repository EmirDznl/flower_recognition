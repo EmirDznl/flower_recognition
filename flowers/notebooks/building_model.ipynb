{
 "cells": [
  {
   "cell_type": "code",
   "execution_count": null,
   "id": "daf2b9de-e5b8-4944-872a-54187bb4304b",
   "metadata": {
    "tags": []
   },
   "outputs": [],
   "source": [
    "import numpy as np\n",
    "import tensorflow as tf\n",
    "from tensorflow.keras import layers\n",
    "from keras.preprocessing.image import ImageDataGenerator\n",
    "import matplotlib.pyplot as plt\n"
   ]
  },
  {
   "cell_type": "code",
   "execution_count": null,
   "id": "93c1dfe9-7d2f-459d-ac32-04033aecaf39",
   "metadata": {
    "tags": []
   },
   "outputs": [],
   "source": [
    "TRAIN_DIR = \"../data/train\"\n",
    "TEST_DIR = \"../data/test\"\n",
    "VAL_DIR = \"../data/validate\""
   ]
  },
  {
   "cell_type": "code",
   "execution_count": null,
   "id": "af5d41aa-6aa0-4064-ba77-4f8b5d9ac35c",
   "metadata": {
    "tags": []
   },
   "outputs": [],
   "source": [
    "train_datagen = ImageDataGenerator(\n",
    "    \n",
    "    rescale = 1. / 255,\n",
    "    rotation_range = 15,\n",
    "    width_shift_range=0.2,\n",
    "    height_shift_range=0.2,\n",
    "    zoom_range=0.2,\n",
    "    horizontal_flip=True\n",
    ")\n",
    "\n",
    "val_datagen = ImageDataGenerator(\n",
    "    rescale = 1. / 255\n",
    ")"
   ]
  },
  {
   "cell_type": "code",
   "execution_count": null,
   "id": "ab3e0ffa-7b8a-49f0-bc9c-3bf6ac3dc261",
   "metadata": {
    "tags": []
   },
   "outputs": [],
   "source": [
    "train_set = train_datagen.flow_from_directory(\n",
    "    TRAIN_DIR,\n",
    "    target_size=(224,224),\n",
    "    batch_size=32,\n",
    "    color_mode = \"rgb\",\n",
    "    class_mode='categorical'\n",
    ")"
   ]
  },
  {
   "cell_type": "code",
   "execution_count": null,
   "id": "60cc198d-f1ad-4b67-844a-6452e39e412f",
   "metadata": {
    "tags": []
   },
   "outputs": [],
   "source": [
    "val_set = val_datagen.flow_from_directory(\n",
    "    VAL_DIR,\n",
    "    target_size=(224,224),\n",
    "    batch_size=32,\n",
    "    color_mode = \"rgb\",\n",
    "    class_mode='categorical'\n",
    ")"
   ]
  },
  {
   "cell_type": "code",
   "execution_count": null,
   "id": "6c3130b4-940d-4fe1-8c1e-059f00a93968",
   "metadata": {
    "tags": []
   },
   "outputs": [],
   "source": [
    "model = tf.keras.Sequential([\n",
    "    \n",
    "    layers.Conv2D(filters = 16, kernel_size = (3,3), padding=\"same\", activation = \"relu\", input_shape = [224, 224, 3]),\n",
    "    layers.MaxPool2D(),\n",
    "    \n",
    "    layers.Conv2D(filters = 32, kernel_size = (3,3), padding=\"same\", activation = \"relu\"),\n",
    "    layers.MaxPool2D(),\n",
    "    layers.Dropout(0.4),\n",
    "    \n",
    "    layers.Conv2D(filters = 64, kernel_size = (3,3), padding=\"same\", activation = \"relu\"),\n",
    "    layers.MaxPool2D(),\n",
    "    layers.Dropout(0.4),\n",
    "\n",
    "    layers.Conv2D(filters = 64, kernel_size = (3,3), padding=\"same\", activation = \"relu\"),\n",
    "    layers.MaxPool2D(),\n",
    "    layers.Dropout(0.4),\n",
    "    \n",
    "    layers.Conv2D(filters = 128, kernel_size = (3,3), padding=\"same\", activation = \"relu\"),\n",
    "    layers.MaxPool2D(),\n",
    "    layers.Dropout(0.4),\n",
    "    \n",
    "    layers.Flatten(),\n",
    "    \n",
    "    layers.Dense(units = 512, activation = \"relu\"),\n",
    "    \n",
    "    layers.Dense(units = 5, activation = \"softmax\"),\n",
    "]\n",
    ")"
   ]
  },
  {
   "cell_type": "code",
   "execution_count": null,
   "id": "bd638630-d338-45c5-9649-010bec7de21c",
   "metadata": {
    "tags": []
   },
   "outputs": [],
   "source": [
    "model.compile(optimizer='rmsprop' , loss='categorical_crossentropy' , metrics=['accuracy'])"
   ]
  },
  {
   "cell_type": "code",
   "execution_count": null,
   "id": "b2bf6897-f368-41a3-9fdb-375b293a7a05",
   "metadata": {
    "tags": []
   },
   "outputs": [],
   "source": [
    "from keras.callbacks import EarlyStopping\n",
    "callback = EarlyStopping(\n",
    "    min_delta = 0.001,\n",
    "    patience = 5,\n",
    "    restore_best_weights = True\n",
    ")"
   ]
  },
  {
   "cell_type": "code",
   "execution_count": null,
   "id": "183239a6-8ae3-4e9d-a264-15c74b740a77",
   "metadata": {
    "tags": []
   },
   "outputs": [],
   "source": [
    "history = model.fit(\n",
    "    x=train_set,\n",
    "    validation_data=val_set,\n",
    "    batch_size=32,\n",
    "    shuffle = False,\n",
    "    epochs=100,\n",
    "    callbacks = callback\n",
    ")"
   ]
  },
  {
   "cell_type": "code",
   "execution_count": null,
   "id": "c1305bcd-895c-4277-8bbe-5727381bee95",
   "metadata": {
    "tags": []
   },
   "outputs": [],
   "source": [
    "model.save(\"flower_model.h5\")"
   ]
  },
  {
   "cell_type": "code",
   "execution_count": null,
   "id": "98a8e0a9-2b34-4611-b369-28a45254b9e2",
   "metadata": {
    "tags": []
   },
   "outputs": [],
   "source": [
    "import pandas as pd"
   ]
  },
  {
   "cell_type": "code",
   "execution_count": null,
   "id": "58258ad1-8118-4082-a307-12d0b5a1e702",
   "metadata": {
    "tags": []
   },
   "outputs": [],
   "source": [
    "history_df = pd.DataFrame(history.history)\n",
    "history_df.plot()"
   ]
  }
 ],
 "metadata": {
  "kernelspec": {
   "display_name": "Python 3 (ipykernel)",
   "language": "python",
   "name": "python3"
  },
  "language_info": {
   "codemirror_mode": {
    "name": "ipython",
    "version": 3
   },
   "file_extension": ".py",
   "mimetype": "text/x-python",
   "name": "python",
   "nbconvert_exporter": "python",
   "pygments_lexer": "ipython3",
   "version": "3.11.3"
  }
 },
 "nbformat": 4,
 "nbformat_minor": 5
}
